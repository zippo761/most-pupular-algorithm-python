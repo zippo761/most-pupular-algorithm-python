{
 "cells": [
  {
   "cell_type": "code",
   "execution_count": 31,
   "id": "6feb779b",
   "metadata": {},
   "outputs": [],
   "source": [
    "import timeit\n",
    "import time\n",
    "\n",
    "def profiler(func):\n",
    "    def wrapper(*args, **kwargs):\n",
    "        before = time.monotonic()\n",
    "        retval = func(*args, **kwargs)\n",
    "        after = time.monotonic()- before\n",
    "        print(\"Function {}: {} seconds\".format(func.__name__, after))\n",
    "        return retval\n",
    "    return wrapper\n"
   ]
  },
  {
   "cell_type": "markdown",
   "id": "a1d8da0c",
   "metadata": {},
   "source": [
    "# Демонстрация работы рекурсии"
   ]
  },
  {
   "cell_type": "code",
   "execution_count": 16,
   "id": "f8553f91",
   "metadata": {},
   "outputs": [
    {
     "name": "stdout",
     "output_type": "stream",
     "text": [
      "Вверх матрешки 5\n",
      "Вверх матрешки 4\n",
      "Вверх матрешки 3\n",
      "Вверх матрешки 2\n",
      "Матрешка\n",
      "Низ матрешки 2\n",
      "Низ матрешки 3\n",
      "Низ матрешки 4\n",
      "Низ матрешки 5\n"
     ]
    }
   ],
   "source": [
    "def matriyoshka(n):\n",
    "    if n == 1:\n",
    "        print('Матрешка')\n",
    "    else:\n",
    "        print('Вверх матрешки', n)\n",
    "        matriyoshka(n-1)\n",
    "        print('Низ матрешки', n)\n",
    "\n",
    "matriyoshka(5)"
   ]
  },
  {
   "cell_type": "markdown",
   "id": "d6ef1aad",
   "metadata": {},
   "source": [
    "# Факториал"
   ]
  },
  {
   "cell_type": "markdown",
   "id": "e826c2c9",
   "metadata": {},
   "source": [
    "### Циклом while"
   ]
  },
  {
   "cell_type": "code",
   "execution_count": 38,
   "id": "c5dd1d6b",
   "metadata": {},
   "outputs": [
    {
     "name": "stdout",
     "output_type": "stream",
     "text": [
      "120\n"
     ]
    }
   ],
   "source": [
    "fact = 1\n",
    "n = 5\n",
    "while n > 0:\n",
    "    fact *= n\n",
    "    n -= 1\n",
    "print(fact)"
   ]
  },
  {
   "cell_type": "markdown",
   "id": "88d1320e",
   "metadata": {},
   "source": [
    "### Циклом for"
   ]
  },
  {
   "cell_type": "code",
   "execution_count": 17,
   "id": "698e78ea",
   "metadata": {},
   "outputs": [
    {
     "name": "stdout",
     "output_type": "stream",
     "text": [
      "120\n"
     ]
    }
   ],
   "source": [
    "fact = 1\n",
    "n = 5\n",
    "for i in range(1, n+1):\n",
    "    fact = fact*i\n",
    "print(fact)\n"
   ]
  },
  {
   "cell_type": "markdown",
   "id": "71cbd4a0",
   "metadata": {},
   "source": [
    "### Рекурсией"
   ]
  },
  {
   "cell_type": "code",
   "execution_count": 4,
   "id": "a1e5f552",
   "metadata": {},
   "outputs": [
    {
     "name": "stdout",
     "output_type": "stream",
     "text": [
      "120\n"
     ]
    }
   ],
   "source": [
    "def f(n):\n",
    "    if n == 1:\n",
    "        return 1\n",
    "    else:\n",
    "        return f(n-1)*n\n",
    "\n",
    "print(f(5))"
   ]
  },
  {
   "cell_type": "markdown",
   "id": "7222f7df",
   "metadata": {},
   "source": [
    "# Разложение числа на множители"
   ]
  },
  {
   "cell_type": "code",
   "execution_count": 19,
   "id": "8a42a15c",
   "metadata": {},
   "outputs": [
    {
     "name": "stdout",
     "output_type": "stream",
     "text": [
      "2 2 2 3 5\n"
     ]
    }
   ],
   "source": [
    "def factorize_number(x):\n",
    "    \"\"\"\n",
    "    Раскладывает число на множители и выводит на экран.\n",
    "    Х целое положительное число\n",
    "\n",
    "    \"\"\"\n",
    "    d = 2\n",
    "    while d * d <= x:\n",
    "        while x % d == 0:\n",
    "            print(d, end=' ')\n",
    "            x //= d\n",
    "        d = d + 1\n",
    "    if x > 1:\n",
    "        print(int(x))\n",
    "            \n",
    "factorize_number(120)"
   ]
  },
  {
   "cell_type": "markdown",
   "id": "78007828",
   "metadata": {},
   "source": [
    "# Проверка является ли число составным или простым"
   ]
  },
  {
   "cell_type": "code",
   "execution_count": 85,
   "id": "1550d9da",
   "metadata": {},
   "outputs": [
    {
     "name": "stdout",
     "output_type": "stream",
     "text": [
      "True\n"
     ]
    }
   ],
   "source": [
    "def is_prime(x):\n",
    "    \"\"\"\n",
    "    Определяет является ли число простым, x  - целое положительное число.\n",
    "    Если простое, то возвращает True, а иначе False\n",
    "     \"\"\"\n",
    "    divisor = 2\n",
    "    while divisor < x:\n",
    "        if x%divisor == 0:\n",
    "            return False\n",
    "        divisor += 1\n",
    "    return True\n",
    "\n",
    "\n",
    "print(is_prime(113))"
   ]
  },
  {
   "cell_type": "code",
   "execution_count": 42,
   "id": "221bb39d",
   "metadata": {},
   "outputs": [
    {
     "name": "stdout",
     "output_type": "stream",
     "text": [
      "Function is_prime: 93.28100000007544 seconds\n"
     ]
    },
    {
     "data": {
      "text/plain": [
       "True"
      ]
     },
     "execution_count": 42,
     "metadata": {},
     "output_type": "execute_result"
    }
   ],
   "source": [
    "@profiler\n",
    "def is_prime(x):\n",
    "    for i in range(2, (x//2)+1):\n",
    "        if x % i == 0:\n",
    "            return False\n",
    "    return True\n",
    "\n",
    "\n",
    "is_prime(2147483647)"
   ]
  },
  {
   "cell_type": "code",
   "execution_count": 41,
   "id": "15e3d857",
   "metadata": {},
   "outputs": [
    {
     "name": "stdout",
     "output_type": "stream",
     "text": [
      "Function is_prime: 0.0 seconds\n"
     ]
    },
    {
     "data": {
      "text/plain": [
       "True"
      ]
     },
     "execution_count": 41,
     "metadata": {},
     "output_type": "execute_result"
    }
   ],
   "source": [
    "@profiler\n",
    "def is_prime(a):\n",
    "    \"\"\"\n",
    "    True если число простое, False если число составное.\n",
    "    \"\"\"\n",
    "    if a < 1: # проверим на отрицательное число\n",
    "        print('отрицательное число')\n",
    "        return\n",
    "    if a % 2 == 0: # проверим на кратность 2-м\n",
    "        return a == 2\n",
    "    d = 3          # делитель начинаем проверять с 3-х\n",
    "    # если число кратное d то оно составное\n",
    "    while d * d <= a and a % d != 0:\n",
    "        d += 2\n",
    "    return d * d > a\n",
    "\n",
    "\n",
    "\n",
    "is_prime(2147483647)"
   ]
  },
  {
   "cell_type": "markdown",
   "id": "72fb8795",
   "metadata": {},
   "source": [
    "# Короткая версия"
   ]
  },
  {
   "cell_type": "code",
   "execution_count": 155,
   "id": "da5b39f2",
   "metadata": {},
   "outputs": [
    {
     "name": "stdout",
     "output_type": "stream",
     "text": [
      "Function is_prime3: 15.031 seconds\n"
     ]
    },
    {
     "data": {
      "text/plain": [
       "True"
      ]
     },
     "execution_count": 155,
     "metadata": {},
     "output_type": "execute_result"
    }
   ],
   "source": [
    "@profiler\n",
    "def is_prime3(n):\n",
    "    return ~-2 ** n % n < 2\n",
    "\n",
    "\n",
    "is_prime3(2147483647)\n",
    "\n",
    "# но работает дольше предыдущего"
   ]
  },
  {
   "cell_type": "markdown",
   "id": "d639d4ec",
   "metadata": {},
   "source": [
    "# Нахождение наибольшего общего делителя"
   ]
  },
  {
   "cell_type": "markdown",
   "id": "c170c7b5",
   "metadata": {},
   "source": [
    "### Вычитанием"
   ]
  },
  {
   "cell_type": "code",
   "execution_count": 1,
   "id": "439cad1c",
   "metadata": {},
   "outputs": [
    {
     "name": "stdout",
     "output_type": "stream",
     "text": [
      "1\n"
     ]
    }
   ],
   "source": [
    "def gcd(a, b):\n",
    "    if a == b:\n",
    "        return a\n",
    "    elif a > b:\n",
    "        return gcd(a-b, b)\n",
    "    else:\n",
    "        return gcd(a, b-a)\n",
    "\n",
    "\n",
    "print(gcd(1024, 3))"
   ]
  },
  {
   "cell_type": "markdown",
   "id": "14057223",
   "metadata": {},
   "source": [
    "### Используя остаток от деления"
   ]
  },
  {
   "cell_type": "code",
   "execution_count": 9,
   "id": "30bc132f",
   "metadata": {},
   "outputs": [
    {
     "name": "stdout",
     "output_type": "stream",
     "text": [
      "1\n"
     ]
    }
   ],
   "source": [
    "def gcd(a, b):\n",
    "    \"\"\"\n",
    "    Нахождение наибольшего общего делителя если\n",
    "    одно из чисел гораздо больше второго.\n",
    "    \"\"\"\n",
    "    if b == 0:\n",
    "        return a\n",
    "    else:\n",
    "        return gcd(b, a % b)\n",
    "\n",
    "\n",
    "print(gcd(1024, 3))"
   ]
  },
  {
   "cell_type": "markdown",
   "id": "2dcbabc6",
   "metadata": {},
   "source": [
    "### Короткая реализация"
   ]
  },
  {
   "cell_type": "code",
   "execution_count": 10,
   "id": "4d714a6d",
   "metadata": {},
   "outputs": [
    {
     "name": "stdout",
     "output_type": "stream",
     "text": [
      "1\n"
     ]
    }
   ],
   "source": [
    "def gcd(a, b):\n",
    "    return a if b == 0 else gcd(b, a % b)\n",
    "\n",
    "print(gcd(2147483647, 105023))"
   ]
  },
  {
   "cell_type": "code",
   "execution_count": 11,
   "id": "3fb5d137",
   "metadata": {},
   "outputs": [
    {
     "data": {
      "text/plain": [
       "1"
      ]
     },
     "execution_count": 11,
     "metadata": {},
     "output_type": "execute_result"
    }
   ],
   "source": [
    "gcd = lambda a,b : a if not b else gcd(b, a%b)\n",
    "gcd(2147483647, 105023)"
   ]
  },
  {
   "cell_type": "markdown",
   "id": "1a796b84",
   "metadata": {},
   "source": [
    "### Бинарный алгоритм Евклида"
   ]
  },
  {
   "cell_type": "code",
   "execution_count": 12,
   "id": "87ef86ce",
   "metadata": {},
   "outputs": [
    {
     "data": {
      "text/plain": [
       "1"
      ]
     },
     "execution_count": 12,
     "metadata": {},
     "output_type": "execute_result"
    }
   ],
   "source": [
    "def binary_gcd(num1, num2):\n",
    "    shift = 0\n",
    "    # Если одно из чисел равно нулю, делитель - другое число\n",
    "    if num1 == 0:\n",
    "        return num2\n",
    "    if num2 == 0:\n",
    "        return num1\n",
    "    # Если num1 = 1010, а num2 = 0100, то num1 | num2 = 1110\n",
    "    # 1110 & 0001 == 0, тогда происходит сдвиг, который фиксируется в shift\n",
    "    while (num1 | num2) & 1 == 0:\n",
    "        shift += 1\n",
    "        num1 >>= 1\n",
    "        num2 >>= 1\n",
    "    #Если True, значит num1 - четное, иначе - нечетное\n",
    "    while num1 & 1 == 0:\n",
    "        # если нечетное, сдвигаем на один бит\n",
    "        num1 >>= 1\n",
    "    while num2 != 0:\n",
    "        # пока число нечётное, сдвигаем на один бит\n",
    "        while num2 & 1 == 0:\n",
    "            num2 >>= 1\n",
    "        # если первое число больше второго\n",
    "        if num1 > num2:\n",
    "            # меняем их местами\n",
    "            num1, num2 = num2, num1\n",
    "        #теперь первое число меньше второго, вычитаем\n",
    "        num2 -= num1\n",
    "    # возвращаем число, перед этим сдвинув его биты на shift\n",
    "    return num1 << shift\n",
    "\n",
    "binary_gcd(2147483647, 105023)"
   ]
  },
  {
   "cell_type": "markdown",
   "id": "c7e5f3e7",
   "metadata": {},
   "source": [
    "# Быстрое возведение в степень"
   ]
  },
  {
   "cell_type": "code",
   "execution_count": 1,
   "id": "216f9e41",
   "metadata": {},
   "outputs": [
    {
     "name": "stdout",
     "output_type": "stream",
     "text": [
      "14166102623834861723796252524915224416640471830910191322323547432140618947596486436347661333869287260068907949302029484915942402681211620694598046617844295512220793103312980549591537160959053027940624117598003417503015722697428176155600362263128567590299511776686592862074376328232990325101248680123776914576482815095784568122986221890411837737570098864613342090972756469661488216176894465388028416768338495326989675118087222767384596111351304957869025273802978281783731929966468210579229830069556698928937342508988340792335737744719376598506908977135291983117722648269177947154657697517074993441515526839887073400191797445153760221695723268255006134044062503100710134200414607696976757837002911389023284338696251543694980946202137938610119300450795091488653253649628649410789376\n"
     ]
    }
   ],
   "source": [
    "def pow(a, n):\n",
    "    if n == 0:  # крайний случай\n",
    "        return 1\n",
    "    elif n % 2 == 1:           # проверяем что степень четная\n",
    "        return pow(a, n-1)*a   # если нет понижаем на единичку\n",
    "    else:\n",
    "        return pow(a**2, n//2) # теперь a**2 возводим в квадрат, а степень нацело делим на 2! Ведь a**n=(a**2)**n/2.\n",
    "        # Тем самым колосально уменьшаем кол-во перемножений и ускоряем выполнение кода.\n",
    "\n",
    "# Проверим 6**1000000\n",
    "print(pow(6, 1000))"
   ]
  },
  {
   "cell_type": "markdown",
   "id": "e8b17faf",
   "metadata": {},
   "source": [
    "# Нахождение пересечений в списке строк."
   ]
  },
  {
   "cell_type": "code",
   "execution_count": 28,
   "id": "0f8aec0e",
   "metadata": {},
   "outputs": [
    {
     "name": "stdout",
     "output_type": "stream",
     "text": [
      "['s', 'a', 'm']\n"
     ]
    }
   ],
   "source": [
    "def intersected(*args):\n",
    "    res = []\n",
    "    for arg in args[0]:\n",
    "        if arg in res:\n",
    "            continue\n",
    "        else:\n",
    "            for other in args[1:]:\n",
    "                if arg not in other:\n",
    "                    break\n",
    "            else:\n",
    "                res.append(arg)\n",
    "    return res\n",
    "\n",
    "\n",
    "\n",
    "s1, s2, s3 = 'spam', 'slam', 'skam'\n",
    "print(intersected(s1, s2, s3))"
   ]
  },
  {
   "cell_type": "markdown",
   "id": "b03925c3",
   "metadata": {},
   "source": [
    " # Обьединение уникальных символов в списке строк."
   ]
  },
  {
   "cell_type": "code",
   "execution_count": 29,
   "id": "b0e2abc9",
   "metadata": {},
   "outputs": [
    {
     "name": "stdout",
     "output_type": "stream",
     "text": [
      "['s', 'p', 'a', 'm', 'k', 'v', 'g']\n"
     ]
    }
   ],
   "source": [
    "def union(*args):\n",
    "    res = []\n",
    "    for arg in args:\n",
    "        for k in arg:\n",
    "            if k not in res:\n",
    "                res.append(k)\n",
    "    return res\n",
    "\n",
    "s1, s2, s3 = 'spam', 'skav', 'sgap'\n",
    "print(union(s1, s2, s3))\n",
    "\n"
   ]
  },
  {
   "cell_type": "markdown",
   "id": "f437f170",
   "metadata": {},
   "source": [
    "# Разворот списка"
   ]
  },
  {
   "cell_type": "code",
   "execution_count": 35,
   "id": "3f0d4f19",
   "metadata": {},
   "outputs": [
    {
     "name": "stdout",
     "output_type": "stream",
     "text": [
      "[1, 2, 3, 4, 5]\n",
      "[5, 4, 3, 2, 1]\n",
      "#test1 - ok\n",
      "[0, 0, 0, 0, 0, 0, 0, 10]\n",
      "[10, 0, 0, 0, 0, 0, 0, 0]\n",
      "#test2 - ok\n"
     ]
    }
   ],
   "source": [
    "def invert_array(A:list, N:int):\n",
    "    \"\"\"Обращение списка в рамках индексов от 0 до N-1 т.е разворот списка задом-наперед \"\"\"\n",
    "    for k in range(N//2):\n",
    "        A[k], A[N-1-k] = A[N-1-k], A[k]\n",
    "\n",
    "\n",
    "def test_invert_array():\n",
    "    A1 = [1, 2, 3, 4, 5]\n",
    "    print(A1)\n",
    "    invert_array(A1, len(A1))\n",
    "    print(A1)\n",
    "    if A1 == [5, 4, 3, 2, 1]:\n",
    "        print('#test1 - ok')\n",
    "    else:\n",
    "        print('#test1 - fail')\n",
    "\n",
    "    A2 = [0, 0, 0, 0, 0, 0, 0, 10]\n",
    "    print(A2)\n",
    "    invert_array(A2, len(A2))\n",
    "    print(A2)\n",
    "    if A2 == [10, 0, 0, 0, 0, 0, 0, 0]:\n",
    "        print('#test2 - ok')\n",
    "    else:\n",
    "        print('#test2 - fail')\n",
    "\n",
    "test_invert_array()"
   ]
  },
  {
   "cell_type": "markdown",
   "id": "2e89907c",
   "metadata": {},
   "source": [
    "# Квадратичные сортировки"
   ]
  },
  {
   "cell_type": "markdown",
   "id": "3b3fdeb7",
   "metadata": {},
   "source": [
    "## Сортировка вставками"
   ]
  },
  {
   "cell_type": "code",
   "execution_count": 39,
   "id": "ba05c7d5",
   "metadata": {},
   "outputs": [
    {
     "name": "stdout",
     "output_type": "stream",
     "text": [
      "[1, 2, 3, 4, 5]\n"
     ]
    }
   ],
   "source": [
    "def insert_sort(A):\n",
    "    '''\n",
    "    Cортировка списка А вставками\n",
    "    Бежит в цилке по списку и проверяет что элемента на своем месте.\n",
    "    Если нет начинает искать ему место справа налево и затем уменьшает К и проверяет \n",
    "    что элементы на своем месте.\n",
    "    '''\n",
    "    N = len(A)\n",
    "    for top in range(1, N):\n",
    "        k = top\n",
    "        while k > 0 and A[k-1] > A[k]:\n",
    "            A[k], A[k-1] = A[k-1], A[k]\n",
    "            k -= 1\n",
    "    return A\n",
    "\n",
    "\n",
    "A = [4, 2, 5, 1, 3]\n",
    "print(insert_sort(A))"
   ]
  },
  {
   "cell_type": "markdown",
   "id": "eef08c2c",
   "metadata": {},
   "source": [
    "## Сортировка выбором"
   ]
  },
  {
   "cell_type": "code",
   "execution_count": 103,
   "id": "3b330495",
   "metadata": {},
   "outputs": [
    {
     "name": "stdout",
     "output_type": "stream",
     "text": [
      "[1, 2, 3, 4, 5]\n"
     ]
    }
   ],
   "source": [
    "def choice_sort(A:list):\n",
    "    \"\"\"\n",
    "    Сортировка списка А выбором. Бежим по циклу и ищем того\n",
    "    кто меньше нашего минимум и меняем местами.\n",
    "    \"\"\"\n",
    "    N = len(A)\n",
    "    for pos in range(N-1):              \n",
    "        for k in range(pos+1, N):\n",
    "            if A[k] < A[pos]:\n",
    "                A[k], A[pos] = A[pos], A[k]\n",
    "    return A\n",
    "\n",
    "\n",
    "A1 = [4, 2, 5, 1, 3]\n",
    "print(choice_sort(A1))"
   ]
  },
  {
   "cell_type": "markdown",
   "id": "8fc994cc",
   "metadata": {},
   "source": [
    "## Пузырьковая сортировка"
   ]
  },
  {
   "cell_type": "code",
   "execution_count": 40,
   "id": "4b1743f7",
   "metadata": {},
   "outputs": [
    {
     "name": "stdout",
     "output_type": "stream",
     "text": [
      "[1, 2, 3, 4, 5]\n"
     ]
    }
   ],
   "source": [
    "def bubble_sort(A):\n",
    "    '''Сортировка списка А методом пузырька'''\n",
    "    N = len(A)\n",
    "    for bypass in range(1, N):\n",
    "        for k in range(0, N-bypass):\n",
    "            if A[k] > A[k+1]:\n",
    "                A[k], A[k+1] = A[k+1], A[k]\n",
    "    return A\n",
    "\n",
    "\n",
    "A = [4, 2, 5, 1, 3]\n",
    "print(bubble_sort(A))"
   ]
  },
  {
   "cell_type": "markdown",
   "id": "0619aefd",
   "metadata": {},
   "source": [
    "# Сортировка Тома Хоара"
   ]
  },
  {
   "cell_type": "code",
   "execution_count": 2,
   "id": "f7db730f",
   "metadata": {},
   "outputs": [
    {
     "name": "stdout",
     "output_type": "stream",
     "text": [
      "[1, 1, 3, 4, 5, 6, 7, 7, 9]\n"
     ]
    }
   ],
   "source": [
    "def hoar_sort(A):\n",
    "    \"\"\"\n",
    "    Сортировка иногда работает хуже. W(n*log2N) или  O(N**2)\n",
    "\n",
    "    \"\"\"\n",
    "    if len(A) <= 1:\n",
    "        return\n",
    "    barrier = A[0]\n",
    "    L = []\n",
    "    M = []\n",
    "    R = []\n",
    "    for x in A:\n",
    "        if x < barrier:\n",
    "            L.append(x)\n",
    "        elif x == barrier:\n",
    "            M.append(x)\n",
    "        else:\n",
    "            R.append(x)\n",
    "    hoar_sort(L)\n",
    "    hoar_sort(R)\n",
    "    k = 0\n",
    "    for x in L+M+R:\n",
    "        A[k] = x\n",
    "        k += 1\n",
    "\n",
    "\n",
    "test1 = [6, 3, 1, 7, 9, 1, 5, 4, 7]\n",
    "\n",
    "hoar_sort(test1)\n",
    "\n",
    "print(test1)"
   ]
  },
  {
   "cell_type": "markdown",
   "id": "b8605566",
   "metadata": {},
   "source": [
    "# Сортировка слиянием "
   ]
  },
  {
   "cell_type": "code",
   "execution_count": 8,
   "id": "f6a0cbc8",
   "metadata": {},
   "outputs": [
    {
     "name": "stdout",
     "output_type": "stream",
     "text": [
      "[1, 1, 2, 3, 3, 4, 5, 5, 7, 7, 8, 8, 9, 10]\n"
     ]
    }
   ],
   "source": [
    "def merge_sort(A):  \n",
    "    if len(A) <= 1:\n",
    "        return\n",
    "    middle = len(A) // 2\n",
    "    L = [A[i] for i in range(0, middle)]\n",
    "    R = [A[i] for i in range(middle, len(A))]\n",
    "    merge_sort(L)\n",
    "    merge_sort(R)\n",
    "    C = merge(L, R)\n",
    "    for i in range(len(A)):\n",
    "        A[i] = C[i]\n",
    "\n",
    "\n",
    "def merge(A:list, B:list):  # Сортировка двух отсортированных списков\n",
    "    C = [0] * (len(A) + len(B))\n",
    "    i = 0\n",
    "    k = 0\n",
    "    n = 0\n",
    "    while i < len(A) and k < len(B):\n",
    "        if A[i] <= B[k]:\n",
    "            C[n] = A[i]\n",
    "            i += 1\n",
    "            n += 1\n",
    "        else:\n",
    "            C[n] = B[k]\n",
    "            k += 1\n",
    "            n += 1\n",
    "    while i < len(A):\n",
    "        C[n] = A[i]\n",
    "        i += 1\n",
    "        n += 1\n",
    "    while k < len(B):\n",
    "        C[n] = B[k]\n",
    "        k += 1\n",
    "        n += 1\n",
    "    return C\n",
    "\n",
    "\n",
    "A = [4, 5, 2, 3, 1, 7, 8, 9, 10, 5, 7, 3, 1, 8]\n",
    "merge_sort(A)\n",
    "print(A)\n"
   ]
  },
  {
   "cell_type": "markdown",
   "id": "8201a68b",
   "metadata": {},
   "source": [
    "# Бинарный поиск"
   ]
  },
  {
   "cell_type": "code",
   "execution_count": 76,
   "id": "6993d66a",
   "metadata": {},
   "outputs": [
    {
     "name": "stdout",
     "output_type": "stream",
     "text": [
      "5\n",
      "3\n"
     ]
    }
   ],
   "source": [
    "def left_bound(A, key): #Бинарный  поиск левой границы в массиве уже отсортированного списка\n",
    "    left = -1   \n",
    "    right = len(A)  \n",
    "    while right - left > 1:\n",
    "        middle = (left + right)//2\n",
    "        if A[middle] < key:\n",
    "            left = middle\n",
    "        else:\n",
    "            right = middle\n",
    "    return left\n",
    "\n",
    "\n",
    "def right_bound(A, key): #Бинарный  поиск правой  границы в массиве уже отсортированного списка\n",
    "    left = -1   \n",
    "    right = len(A)  \n",
    "    while right - left > 1:\n",
    "        middle = (left + right)//2\n",
    "        if A[middle] <= key:\n",
    "            left = middle\n",
    "        else:\n",
    "            right = middle\n",
    "    return right\n",
    "\n",
    "    \n",
    "A = [1, 3, 3, 6, 9]\n",
    "print(right_bound(A, 9))\n",
    "print(left_bound(A, 9))"
   ]
  },
  {
   "cell_type": "markdown",
   "id": "cc757b98",
   "metadata": {},
   "source": [
    "# Проверка отсортированности списка"
   ]
  },
  {
   "cell_type": "code",
   "execution_count": 44,
   "id": "b67567eb",
   "metadata": {},
   "outputs": [
    {
     "data": {
      "text/plain": [
       "True"
      ]
     },
     "execution_count": 44,
     "metadata": {},
     "output_type": "execute_result"
    }
   ],
   "source": [
    "def check_sorted(A:list, ascending=True):\n",
    "    \"\"\"Проверяем отсортированности за O(len(A))\"\"\"\n",
    "    flag = True\n",
    "    s = 2*int(ascending)-1\n",
    "    for i in range(0, len(A)-1):\n",
    "        if s*A[i] > s*A[i+1]:\n",
    "            flag = False\n",
    "            break\n",
    "    return flag\n",
    "\n",
    "\n",
    "test1 = [1, 2, 3, 4, 5, 6, 7]\n",
    "check_sorted(test1)"
   ]
  },
  {
   "cell_type": "markdown",
   "id": "5d465bad",
   "metadata": {},
   "source": [
    "# Перестановки"
   ]
  },
  {
   "cell_type": "code",
   "execution_count": 5,
   "id": "262d1510",
   "metadata": {},
   "outputs": [
    {
     "name": "stdout",
     "output_type": "stream",
     "text": [
      "[1, 2, 3]\n",
      "[1, 3, 2]\n",
      "[2, 1, 3]\n",
      "[2, 3, 1]\n",
      "[3, 1, 2]\n",
      "[3, 2, 1]\n"
     ]
    }
   ],
   "source": [
    "def find(number, A):\n",
    "    \"\"\"\n",
    "    Ищет х в А и возвращает True если такой есть,\n",
    "    False если такого нет\n",
    "\n",
    "    \"\"\"\n",
    "    flag = False\n",
    "    for x in A:\n",
    "        if number == x:\n",
    "            flag = True\n",
    "            break\n",
    "    return flag\n",
    "\n",
    "\n",
    "def generate_permutations(N:int, M:int=-1, prefix=None):\n",
    "    \"\"\"\n",
    "    Генерация всех перестановок N чисел в M позициях,\n",
    "    с префиксом prefix\n",
    "\n",
    "    \"\"\"\n",
    "\n",
    "    M == N if M == -1 else M    # по умолчанию N чисел в N позициях\n",
    "    prefix = prefix or []\n",
    "    if M == 0:\n",
    "        print(prefix)\n",
    "        return\n",
    "    for number in range(1, N+1):\n",
    "        if find(number, prefix):               # функция которая проверяет была ли уже эта цифра и если была выдает False и пропускает эту итерацию\n",
    "            continue\n",
    "        prefix.append(number)                  # в список только не повторяющиеся цифры\n",
    "        generate_permutations(N, M-1, prefix)\n",
    "        prefix.pop()\n",
    "\n",
    "\n",
    "generate_permutations(3, 3)\n"
   ]
  },
  {
   "cell_type": "markdown",
   "id": "e0240378",
   "metadata": {},
   "source": [
    "# Генерация чисел N на M "
   ]
  },
  {
   "cell_type": "code",
   "execution_count": 13,
   "id": "320b328c",
   "metadata": {},
   "outputs": [
    {
     "name": "stdout",
     "output_type": "stream",
     "text": [
      "0 0 0\n",
      "0 0 1\n",
      "0 1 0\n",
      "0 1 1\n",
      "1 0 0\n",
      "1 0 1\n",
      "1 1 0\n",
      "1 1 1\n"
     ]
    }
   ],
   "source": [
    "def generate_number(N:int, M:int, prefix=None):              # prefix  = None для\n",
    "    \"\"\"\n",
    "    Генерирует все числа (с лидирующими незначащими нулями). \n",
    "    N – система счисления. M – длина числа.\n",
    "    \"\"\"\n",
    "    prefix = prefix or []\n",
    "    if M == 0:\n",
    "        print(*prefix)\n",
    "        return\n",
    "    for digit in range(N):           \n",
    "        prefix.append(digit)\n",
    "        generate_number(N, M-1, prefix)\n",
    "        prefix.pop()\n",
    "\n",
    "generate_number(2, 3)"
   ]
  },
  {
   "cell_type": "code",
   "execution_count": null,
   "id": "35ec5725",
   "metadata": {},
   "outputs": [],
   "source": [
    "def generate_number(N:int, M:int, prefix=None):              \n",
    "    \"\"\"\n",
    "    Генерирует все числа (с лидирующими незначащими нулями).\n",
    "    N – система счисления. M – длина числа.\n",
    "    \"\"\"\n",
    "    prefix = prefix or []\n",
    "    if M == 0:\n",
    "        print(*prefix)\n",
    "        return\n",
    "    for digit in range(N):           \n",
    "        prefix.append(digit)\n",
    "        generate_number(N, M-1, prefix)\n",
    "        prefix.pop()\n",
    "\n",
    "generate_number(2, 3)\n"
   ]
  },
  {
   "cell_type": "markdown",
   "id": "cf3bed4e",
   "metadata": {},
   "source": [
    "## Перестановки только для двоичной системы"
   ]
  },
  {
   "cell_type": "code",
   "execution_count": 18,
   "id": "5497b0bb",
   "metadata": {},
   "outputs": [
    {
     "name": "stdout",
     "output_type": "stream",
     "text": [
      "000\n",
      "001\n",
      "010\n",
      "011\n",
      "100\n",
      "101\n",
      "110\n",
      "111\n"
     ]
    }
   ],
   "source": [
    "def gen_bin(M, prefix=''):\n",
    "    if M == 0:\n",
    "        print(*prefix, sep='')\n",
    "        return\n",
    "    gen_bin(M-1, prefix + '0')\n",
    "    gen_bin(M-1, prefix + '1')\n",
    "    \n",
    "gen_bin(3)"
   ]
  },
  {
   "cell_type": "markdown",
   "id": "ed7a2917",
   "metadata": {},
   "source": [
    "# Решето эратосфена"
   ]
  },
  {
   "cell_type": "code",
   "execution_count": 3,
   "id": "9ef7083a",
   "metadata": {},
   "outputs": [
    {
     "name": "stdout",
     "output_type": "stream",
     "text": [
      "10\n",
      "0 - простое\n",
      "1 - простое\n",
      "2 - простое\n",
      "3 - простое\n",
      "4 - составное\n",
      "5 - простое\n",
      "6 - составное\n",
      "7 - простое\n",
      "8 - составное\n",
      "9 - составное\n"
     ]
    }
   ],
   "source": [
    "N = int(input())                           # обьем массива\n",
    "A = [True] * N                   # наполняем индексы массива True\n",
    "for k in range(2, N):            # начинаем итерацию с 2 индекса соответственно до предела N не включительно\n",
    "    if A[k]:                     # Если A правда\n",
    "        for m in range(k+k, N, k): # то делаем итерацию по массиву N с шагом кратным K\n",
    "            A[m] = False         # и отмечаем, что уже эти числан не являются простыми, а составные\n",
    "for k in range(N):               # теперь пробежимся по всем значениям и выведем в соотственнии со значением индекса простые и составные\n",
    "    print(k, '-', 'простое' if A[k] else 'составное')\n"
   ]
  },
  {
   "cell_type": "markdown",
   "id": "660a1c3f",
   "metadata": {},
   "source": [
    "# Нахождение числа Фибоначчи"
   ]
  },
  {
   "cell_type": "code",
   "execution_count": 7,
   "id": "738a20e3",
   "metadata": {},
   "outputs": [
    {
     "name": "stdout",
     "output_type": "stream",
     "text": [
      "102334155\n"
     ]
    }
   ],
   "source": [
    "fib = lambda n: fib(n-1) + fib(n-2) if n > 2 else 1\n",
    "\n",
    "print(fib(40))"
   ]
  },
  {
   "cell_type": "code",
   "execution_count": 1,
   "id": "d7790fe0",
   "metadata": {},
   "outputs": [
    {
     "name": "stdout",
     "output_type": "stream",
     "text": [
      "102334155\n"
     ]
    }
   ],
   "source": [
    "def fib(n):                              # Линейная асимптотика\n",
    "    fib1 = [0, 1] + [0] * (n-1)\n",
    "    for i in range(2, n+1):\n",
    "        fib1[i] = fib1[i-1] + fib1[i-2]\n",
    "    return fib1[n]\n",
    "\n",
    "\n",
    "print(fib(40))"
   ]
  },
  {
   "cell_type": "code",
   "execution_count": 2,
   "id": "770ca9b7",
   "metadata": {},
   "outputs": [
    {
     "name": "stdout",
     "output_type": "stream",
     "text": [
      "354224848179261915075 {0: 0, 1: 1, 2: 1, 3: 2, 4: 3, 5: 5, 6: 8, 7: 13, 8: 21, 9: 34, 10: 55, 11: 89, 12: 144, 13: 233, 14: 377, 15: 610, 16: 987, 17: 1597, 18: 2584, 19: 4181, 20: 6765, 21: 10946, 22: 17711, 23: 28657, 24: 46368, 25: 75025, 26: 121393, 27: 196418, 28: 317811, 29: 514229, 30: 832040, 31: 1346269, 32: 2178309, 33: 3524578, 34: 5702887, 35: 9227465, 36: 14930352, 37: 24157817, 38: 39088169, 39: 63245986, 40: 102334155, 41: 165580141, 42: 267914296, 43: 433494437, 44: 701408733, 45: 1134903170, 46: 1836311903, 47: 2971215073, 48: 4807526976, 49: 7778742049, 50: 12586269025, 51: 20365011074, 52: 32951280099, 53: 53316291173, 54: 86267571272, 55: 139583862445, 56: 225851433717, 57: 365435296162, 58: 591286729879, 59: 956722026041, 60: 1548008755920, 61: 2504730781961, 62: 4052739537881, 63: 6557470319842, 64: 10610209857723, 65: 17167680177565, 66: 27777890035288, 67: 44945570212853, 68: 72723460248141, 69: 117669030460994, 70: 190392490709135, 71: 308061521170129, 72: 498454011879264, 73: 806515533049393, 74: 1304969544928657, 75: 2111485077978050, 76: 3416454622906707, 77: 5527939700884757, 78: 8944394323791464, 79: 14472334024676221, 80: 23416728348467685, 81: 37889062373143906, 82: 61305790721611591, 83: 99194853094755497, 84: 160500643816367088, 85: 259695496911122585, 86: 420196140727489673, 87: 679891637638612258, 88: 1100087778366101931, 89: 1779979416004714189, 90: 2880067194370816120, 91: 4660046610375530309, 92: 7540113804746346429, 93: 12200160415121876738, 94: 19740274219868223167, 95: 31940434634990099905, 96: 51680708854858323072, 97: 83621143489848422977, 98: 135301852344706746049, 99: 218922995834555169026, 100: 354224848179261915075}\n"
     ]
    }
   ],
   "source": [
    "m = {0: 0, 1: 1}\n",
    "\n",
    "def fib(n):\n",
    "    if n in m:\n",
    "        return m[n]\n",
    "    m[n] = fib(n-1) + fib(n-2)\n",
    "    return m[n]\n",
    "\n",
    "\n",
    "print(fib(100), m)"
   ]
  },
  {
   "cell_type": "markdown",
   "id": "2dd579be",
   "metadata": {},
   "source": [
    "## Работает гораздо быстрее предыдущих способов и не требователен к памяти."
   ]
  },
  {
   "cell_type": "code",
   "execution_count": 12,
   "id": "88067ce8",
   "metadata": {},
   "outputs": [
    {
     "name": "stdout",
     "output_type": "stream",
     "text": [
      "354224848179261915075\n"
     ]
    }
   ],
   "source": [
    "def fib(n):\n",
    "    a = 0\n",
    "    b = 1\n",
    "    for i in range(n):\n",
    "        a, b = b, a + b\n",
    "    return a\n",
    "\n",
    "\n",
    "print(fib(10**2))"
   ]
  },
  {
   "cell_type": "markdown",
   "id": "d84bd85e",
   "metadata": {},
   "source": [
    "## Самое сложное и молниеностное решение нахождения числа Фибоначчи из данных 5 способов"
   ]
  },
  {
   "cell_type": "code",
   "execution_count": 4,
   "id": "443e950b",
   "metadata": {},
   "outputs": [
    {
     "name": "stdout",
     "output_type": "stream",
     "text": [
      "43466557686937456435688527675040625802564660517371780402481729089536555417949051890403879840079255169295922593080322634775209689623239873322471161642996440906533187938298969649928516003704476137795166849228875\n"
     ]
    }
   ],
   "source": [
    "def pow(x, n, I, mult):\n",
    "    \"\"\"\n",
    "    Возвращает x в степени n. Предполагает, что I – это единичная матрица, которая\n",
    "    перемножается с mult, а n – положительное целое\n",
    "    \"\"\"\n",
    "    if n == 0:\n",
    "        return I\n",
    "    elif n == 1:\n",
    "        return x\n",
    "    else:\n",
    "        y = pow(x, n // 2, I, mult)\n",
    "        y = mult(y, y)\n",
    "        if n % 2:\n",
    "            y = mult(x, y)\n",
    "        return y\n",
    "\n",
    "\n",
    "def identity_matrix(n):\n",
    "    \"\"\"Возвращает единичную матрицу n на n\"\"\"\n",
    "    r = list(range(n))\n",
    "    return [[1 if i == j else 0 for i in r] for j in r]\n",
    "\n",
    "\n",
    "def matrix_multiply(A, B):\n",
    "    BT = list(zip(*B))\n",
    "    return [[sum(a * b\n",
    "                 for a, b in zip(row_a, col_b))\n",
    "            for col_b in BT]\n",
    "            for row_a in A]\n",
    "\n",
    "\n",
    "def fib(n):\n",
    "    F = pow([[1, 1], [1, 0]], n, identity_matrix(2), matrix_multiply)\n",
    "    return F[0][1]\n",
    "\n",
    "\n",
    "print(fib(1000))\n"
   ]
  },
  {
   "cell_type": "markdown",
   "id": "564ab523",
   "metadata": {},
   "source": [
    "# Заполнение матрицы числами по спирали."
   ]
  },
  {
   "cell_type": "code",
   "execution_count": 7,
   "id": "c6e99d79",
   "metadata": {},
   "outputs": [
    {
     "name": "stdout",
     "output_type": "stream",
     "text": [
      "7\n",
      "1 2 3 4 5 6 7 \n",
      "24 25 26 27 28 29 8 \n",
      "23 40 41 42 43 30 9 \n",
      "22 39 48 49 44 31 10 \n",
      "21 38 47 46 45 32 11 \n",
      "20 37 36 35 34 33 12 \n",
      "19 18 17 16 15 14 13 \n"
     ]
    }
   ],
   "source": [
    "\"\"\"Закрутить в матрице по спирали значения чисел n**2\"\"\"\n",
    "n = int(input())\n",
    "a = [[0 for i in range(n)] for j in range(n)]  #создаю матрицу n*n и заполняю нулями\n",
    "k = 1 # заполняю матрицу числом к увеличивая его на 1 после заполнения каждого элемента\n",
    "m = 0 # счётчик итераций спирали, увеличиваю на 1 на каждом витке спирали\n",
    "while k <= n*n: # внешний цикл с 4 вложенными циклами пока k не заполнит всю матрицу n*n\n",
    "    for i in range(m, n-m): # цикл заполняет верхнюю сторону спирали - на каждой итерации сужаем границы цикла на m с каждой стороны\n",
    "        a[m][i]= k\n",
    "        k += 1\n",
    "    for i in range(m+1, n-m): # цикл заполняет правую сторону спирали, границы зависят от m\n",
    "        a[i][n-m-1]= k\n",
    "        k += 1\n",
    "    for i in range(n-m-2, m-1, -1): # заполняею нижнюю сторону спирали - зависит от m\n",
    "        a[n-m-1][i] = k\n",
    "        k += 1\n",
    "    for i in range(n-2-m, m, -1): # цикл заполняет леаую сторону спирали - зависит от m\n",
    "        a[i][m] = k\n",
    "        k += 1\n",
    "    m += 1\n",
    "    \n",
    "for i in range(n): # вывод на печать каждого элемента матрицы\n",
    "    for j in range(n):\n",
    "        print(a[i][j], end =' ')\n",
    "    print()"
   ]
  },
  {
   "cell_type": "code",
   "execution_count": null,
   "id": "a94170ea",
   "metadata": {},
   "outputs": [],
   "source": []
  }
 ],
 "metadata": {
  "kernelspec": {
   "display_name": "py33",
   "language": "python",
   "name": "py33"
  },
  "language_info": {
   "codemirror_mode": {
    "name": "ipython",
    "version": 3
   },
   "file_extension": ".py",
   "mimetype": "text/x-python",
   "name": "python",
   "nbconvert_exporter": "python",
   "pygments_lexer": "ipython3",
   "version": "3.9.7"
  },
  "varInspector": {
   "cols": {
    "lenName": 16,
    "lenType": 16,
    "lenVar": 40
   },
   "kernels_config": {
    "python": {
     "delete_cmd_postfix": "",
     "delete_cmd_prefix": "del ",
     "library": "var_list.py",
     "varRefreshCmd": "print(var_dic_list())"
    },
    "r": {
     "delete_cmd_postfix": ") ",
     "delete_cmd_prefix": "rm(",
     "library": "var_list.r",
     "varRefreshCmd": "cat(var_dic_list()) "
    }
   },
   "types_to_exclude": [
    "module",
    "function",
    "builtin_function_or_method",
    "instance",
    "_Feature"
   ],
   "window_display": false
  }
 },
 "nbformat": 4,
 "nbformat_minor": 5
}
